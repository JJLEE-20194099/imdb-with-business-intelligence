{
 "cells": [
  {
   "cell_type": "code",
   "execution_count": 1,
   "metadata": {},
   "outputs": [],
   "source": [
    "import pandas as pd\n",
    "import numpy as np\n",
    "import os\n",
    "from tqdm import tqdm\n",
    "from imdb import Cinemagoer"
   ]
  },
  {
   "cell_type": "code",
   "execution_count": 2,
   "metadata": {},
   "outputs": [
    {
     "name": "stderr",
     "output_type": "stream",
     "text": [
      "C:\\Users\\Pc\\AppData\\Roaming\\Python\\Python39\\site-packages\\IPython\\core\\interactiveshell.py:3444: DtypeWarning: Columns (12) have mixed types.Specify dtype option on import or set low_memory=False.\n",
      "  exec(code_obj, self.user_global_ns, self.user_ns)\n"
     ]
    },
    {
     "data": {
      "text/html": [
       "<div>\n",
       "<style scoped>\n",
       "    .dataframe tbody tr th:only-of-type {\n",
       "        vertical-align: middle;\n",
       "    }\n",
       "\n",
       "    .dataframe tbody tr th {\n",
       "        vertical-align: top;\n",
       "    }\n",
       "\n",
       "    .dataframe thead th {\n",
       "        text-align: right;\n",
       "    }\n",
       "</style>\n",
       "<table border=\"1\" class=\"dataframe\">\n",
       "  <thead>\n",
       "    <tr style=\"text-align: right;\">\n",
       "      <th></th>\n",
       "      <th>movie id</th>\n",
       "      <th>title</th>\n",
       "      <th>series</th>\n",
       "      <th>release year</th>\n",
       "      <th>certification</th>\n",
       "      <th>duration</th>\n",
       "      <th>average rating</th>\n",
       "      <th>rating total</th>\n",
       "      <th>popularity score</th>\n",
       "      <th>popularity delta</th>\n",
       "      <th>...</th>\n",
       "      <th>numOfUserReviews</th>\n",
       "      <th>numOfCriticReviews</th>\n",
       "      <th>metaScore</th>\n",
       "      <th>star_url_list</th>\n",
       "      <th>countries_of_origin</th>\n",
       "      <th>official_sites</th>\n",
       "      <th>languages</th>\n",
       "      <th>filming_locations</th>\n",
       "      <th>production_companies</th>\n",
       "      <th>budget_list</th>\n",
       "    </tr>\n",
       "  </thead>\n",
       "  <tbody>\n",
       "    <tr>\n",
       "      <th>0</th>\n",
       "      <td>tt0378947</td>\n",
       "      <td>Melinda and Melinda</td>\n",
       "      <td>NaN</td>\n",
       "      <td>2004</td>\n",
       "      <td>PG-13</td>\n",
       "      <td>1h 39m</td>\n",
       "      <td>6.4</td>\n",
       "      <td>32K</td>\n",
       "      <td>NaN</td>\n",
       "      <td>NaN</td>\n",
       "      <td>...</td>\n",
       "      <td>184</td>\n",
       "      <td>155</td>\n",
       "      <td>54.0</td>\n",
       "      <td>/name/nm0002071/?ref_=tt_ov_st|/name/nm0005416...</td>\n",
       "      <td>United States</td>\n",
       "      <td>Official site</td>\n",
       "      <td>English</td>\n",
       "      <td>Filming locations|Central Park, Manhattan, New...</td>\n",
       "      <td>Production companies|Fox Searchlight Pictures|...</td>\n",
       "      <td>NaN</td>\n",
       "    </tr>\n",
       "    <tr>\n",
       "      <th>1</th>\n",
       "      <td>tt0306047</td>\n",
       "      <td>Scary Movie 3</td>\n",
       "      <td>NaN</td>\n",
       "      <td>2003</td>\n",
       "      <td>PG-13</td>\n",
       "      <td>1h 24m</td>\n",
       "      <td>5.5</td>\n",
       "      <td>147K</td>\n",
       "      <td>1,525</td>\n",
       "      <td>151</td>\n",
       "      <td>...</td>\n",
       "      <td>384</td>\n",
       "      <td>159</td>\n",
       "      <td>49.0</td>\n",
       "      <td>/name/nm0267506/?ref_=tt_ov_st|/name/nm0000221...</td>\n",
       "      <td>United States|Canada</td>\n",
       "      <td>Official sites|Miramax (United States)|Officia...</td>\n",
       "      <td>English</td>\n",
       "      <td>Filming locations|Washington, District of Colu...</td>\n",
       "      <td>Production companies|Dimension Films|Brad Grey...</td>\n",
       "      <td>$48,000,000 (estimated)</td>\n",
       "    </tr>\n",
       "    <tr>\n",
       "      <th>2</th>\n",
       "      <td>tt4183480</td>\n",
       "      <td>Forevermore</td>\n",
       "      <td>NaN</td>\n",
       "      <td>NaN</td>\n",
       "      <td>2014–2015</td>\n",
       "      <td>TV-PGTV-PG</td>\n",
       "      <td>8.4</td>\n",
       "      <td>280</td>\n",
       "      <td>NaN</td>\n",
       "      <td>NaN</td>\n",
       "      <td>...</td>\n",
       "      <td>NaN</td>\n",
       "      <td>NaN</td>\n",
       "      <td>NaN</td>\n",
       "      <td>/name/nm6628668/?ref_=tt_ov_st|/name/nm4715046...</td>\n",
       "      <td>Philippines</td>\n",
       "      <td>NaN</td>\n",
       "      <td>Filipino</td>\n",
       "      <td>NaN</td>\n",
       "      <td>ABS-CBN</td>\n",
       "      <td>NaN</td>\n",
       "    </tr>\n",
       "    <tr>\n",
       "      <th>3</th>\n",
       "      <td>tt10483610</td>\n",
       "      <td>Capitani</td>\n",
       "      <td>TV Series</td>\n",
       "      <td>2019–2022</td>\n",
       "      <td>TV-MA</td>\n",
       "      <td>5h 12m</td>\n",
       "      <td>6.6</td>\n",
       "      <td>4.5K</td>\n",
       "      <td>543</td>\n",
       "      <td>2,342</td>\n",
       "      <td>...</td>\n",
       "      <td>85</td>\n",
       "      <td>12</td>\n",
       "      <td>NaN</td>\n",
       "      <td>/name/nm5020632/?ref_=tt_ov_st|/name/nm8090479...</td>\n",
       "      <td>Luxembourg</td>\n",
       "      <td>Coproducer's website</td>\n",
       "      <td>Luxembourgish</td>\n",
       "      <td>Filming locations|Luxembourg|</td>\n",
       "      <td>Production companies|Artémis Productions|Film ...</td>\n",
       "      <td>NaN</td>\n",
       "    </tr>\n",
       "    <tr>\n",
       "      <th>4</th>\n",
       "      <td>tt9253298</td>\n",
       "      <td>Shaun the Sheep 3D</td>\n",
       "      <td>TV Mini Series</td>\n",
       "      <td>2012</td>\n",
       "      <td>Not Rated</td>\n",
       "      <td>1m</td>\n",
       "      <td>8.1</td>\n",
       "      <td>28</td>\n",
       "      <td>NaN</td>\n",
       "      <td>NaN</td>\n",
       "      <td>...</td>\n",
       "      <td>NaN</td>\n",
       "      <td>NaN</td>\n",
       "      <td>NaN</td>\n",
       "      <td>/name/nm1017994/?ref_=tt_ov_st</td>\n",
       "      <td>United Kingdom</td>\n",
       "      <td>Official site</td>\n",
       "      <td>NaN</td>\n",
       "      <td>NaN</td>\n",
       "      <td>Production company|Aardman Animations|</td>\n",
       "      <td>NaN</td>\n",
       "    </tr>\n",
       "  </tbody>\n",
       "</table>\n",
       "<p>5 rows × 21 columns</p>\n",
       "</div>"
      ],
      "text/plain": [
       "     movie id                title          series release year certification  \\\n",
       "0   tt0378947  Melinda and Melinda             NaN         2004         PG-13   \n",
       "1   tt0306047        Scary Movie 3             NaN         2003         PG-13   \n",
       "2   tt4183480          Forevermore             NaN          NaN     2014–2015   \n",
       "3  tt10483610             Capitani       TV Series    2019–2022         TV-MA   \n",
       "4   tt9253298   Shaun the Sheep 3D  TV Mini Series         2012     Not Rated   \n",
       "\n",
       "     duration  average rating rating total popularity score popularity delta  \\\n",
       "0      1h 39m             6.4          32K              NaN              NaN   \n",
       "1      1h 24m             5.5         147K            1,525              151   \n",
       "2  TV-PGTV-PG             8.4          280              NaN              NaN   \n",
       "3      5h 12m             6.6         4.5K              543            2,342   \n",
       "4          1m             8.1           28              NaN              NaN   \n",
       "\n",
       "   ... numOfUserReviews numOfCriticReviews metaScore  \\\n",
       "0  ...              184                155      54.0   \n",
       "1  ...              384                159      49.0   \n",
       "2  ...              NaN                NaN       NaN   \n",
       "3  ...               85                 12       NaN   \n",
       "4  ...              NaN                NaN       NaN   \n",
       "\n",
       "                                       star_url_list   countries_of_origin  \\\n",
       "0  /name/nm0002071/?ref_=tt_ov_st|/name/nm0005416...         United States   \n",
       "1  /name/nm0267506/?ref_=tt_ov_st|/name/nm0000221...  United States|Canada   \n",
       "2  /name/nm6628668/?ref_=tt_ov_st|/name/nm4715046...           Philippines   \n",
       "3  /name/nm5020632/?ref_=tt_ov_st|/name/nm8090479...            Luxembourg   \n",
       "4                     /name/nm1017994/?ref_=tt_ov_st        United Kingdom   \n",
       "\n",
       "                                      official_sites      languages  \\\n",
       "0                                      Official site        English   \n",
       "1  Official sites|Miramax (United States)|Officia...        English   \n",
       "2                                                NaN       Filipino   \n",
       "3                               Coproducer's website  Luxembourgish   \n",
       "4                                      Official site            NaN   \n",
       "\n",
       "                                   filming_locations  \\\n",
       "0  Filming locations|Central Park, Manhattan, New...   \n",
       "1  Filming locations|Washington, District of Colu...   \n",
       "2                                                NaN   \n",
       "3                      Filming locations|Luxembourg|   \n",
       "4                                                NaN   \n",
       "\n",
       "                                production_companies              budget_list  \n",
       "0  Production companies|Fox Searchlight Pictures|...                      NaN  \n",
       "1  Production companies|Dimension Films|Brad Grey...  $48,000,000 (estimated)  \n",
       "2                                            ABS-CBN                      NaN  \n",
       "3  Production companies|Artémis Productions|Film ...                      NaN  \n",
       "4             Production company|Aardman Animations|                      NaN  \n",
       "\n",
       "[5 rows x 21 columns]"
      ]
     },
     "execution_count": 2,
     "metadata": {},
     "output_type": "execute_result"
    }
   ],
   "source": [
    "detail_df = pd.read_csv('./data/datasets/movie/all_details.csv', sep=',', encoding='utf-8')\n",
    "detail_df.head()"
   ]
  },
  {
   "cell_type": "code",
   "execution_count": 3,
   "metadata": {},
   "outputs": [],
   "source": [
    "detail_df = detail_df.dropna(subset=['average rating'])"
   ]
  },
  {
   "cell_type": "code",
   "execution_count": 4,
   "metadata": {},
   "outputs": [],
   "source": [
    "detail_df = detail_df.dropna(subset=['rating total'])"
   ]
  },
  {
   "cell_type": "code",
   "execution_count": 5,
   "metadata": {},
   "outputs": [],
   "source": [
    "detail_df = detail_df.dropna(subset=['release year'])"
   ]
  },
  {
   "cell_type": "code",
   "execution_count": 6,
   "metadata": {},
   "outputs": [],
   "source": [
    "detail_df = detail_df.dropna(subset=['duration'])"
   ]
  },
  {
   "cell_type": "code",
   "execution_count": 7,
   "metadata": {},
   "outputs": [],
   "source": [
    "runtimes = []\n",
    "genres = []\n",
    "MPPAs = []\n",
    "years = []\n",
    "kinds = []"
   ]
  },
  {
   "cell_type": "code",
   "execution_count": null,
   "metadata": {},
   "outputs": [],
   "source": [
    "\n",
    "# ia = Cinemagoer()\n",
    "# for i, id in tqdm(enumerate(detail_df['movie id'])):\n",
    "#     id = id.replace('tt', '')\n",
    "#     movie = ia.get_movie(id)\n",
    "#     try:\n",
    "#        runtimes.append(movie['runtimes'][0])\n",
    "#     except: \n",
    "#         runtimes.append(0)\n",
    "#     MPPAs.append(detail_df.iloc[i]['certification'])\n",
    "#     genres.append(movie['genres'])\n",
    "#     years.append(movie['year'])\n",
    "#     kinds.append(movie['kind'])"
   ]
  },
  {
   "cell_type": "code",
   "execution_count": 8,
   "metadata": {},
   "outputs": [],
   "source": [
    "def convert_duration_2_num(x):\n",
    "  nums = ''\n",
    "  for c in x:\n",
    "    if c != 'h' and c != 'm':\n",
    "      nums +=c\n",
    "  nums = nums.split(\" \")\n",
    "  if len(nums) == 1:\n",
    "    return int(nums[0])\n",
    "  else:\n",
    "    return int(nums[0]) * 60 + int(nums[1])  \n",
    "detail_df['movie runtime'] = detail_df['duration'].apply(convert_duration_2_num)"
   ]
  },
  {
   "cell_type": "code",
   "execution_count": 9,
   "metadata": {},
   "outputs": [],
   "source": [
    "import seaborn as sns"
   ]
  },
  {
   "cell_type": "code",
   "execution_count": 10,
   "metadata": {},
   "outputs": [
    {
     "data": {
      "text/plain": [
       "{'.', 'K', 'M'}"
      ]
     },
     "execution_count": 10,
     "metadata": {},
     "output_type": "execute_result"
    }
   ],
   "source": [
    "signs = set()\n",
    "for x in detail_df['rating total']:\n",
    "  for c in x:\n",
    "    if c.isnumeric():\n",
    "      continue\n",
    "    signs.add(c)\n",
    "signs"
   ]
  },
  {
   "cell_type": "code",
   "execution_count": 13,
   "metadata": {},
   "outputs": [],
   "source": [
    "def convert_rating_total_2_num(x):\n",
    "  if 'K' in x:\n",
    "    return int(float(x[:-1]) * 1000)\n",
    "  if 'M' in x:\n",
    "    return int(float(x[:-1]) * 100000)\n",
    "  return x"
   ]
  },
  {
   "cell_type": "code",
   "execution_count": 14,
   "metadata": {},
   "outputs": [
    {
     "ename": "ValueError",
     "evalue": "could not convert string to float: '32K'",
     "output_type": "error",
     "traceback": [
      "\u001b[1;31m---------------------------------------------------------------------------\u001b[0m",
      "\u001b[1;31mValueError\u001b[0m                                Traceback (most recent call last)",
      "\u001b[1;32m~\\AppData\\Local\\Temp/ipykernel_7020/1464670270.py\u001b[0m in \u001b[0;36m<module>\u001b[1;34m\u001b[0m\n\u001b[0;32m      3\u001b[0m \u001b[0maverage_rating_list\u001b[0m \u001b[1;33m=\u001b[0m \u001b[0mlist\u001b[0m\u001b[1;33m(\u001b[0m\u001b[0mdetail_df\u001b[0m\u001b[1;33m[\u001b[0m\u001b[1;34m'average rating'\u001b[0m\u001b[1;33m]\u001b[0m\u001b[1;33m)\u001b[0m\u001b[1;33m\u001b[0m\u001b[1;33m\u001b[0m\u001b[0m\n\u001b[0;32m      4\u001b[0m \u001b[1;32mfor\u001b[0m \u001b[0mi\u001b[0m \u001b[1;32min\u001b[0m \u001b[0mrange\u001b[0m\u001b[1;33m(\u001b[0m\u001b[0mlen\u001b[0m\u001b[1;33m(\u001b[0m\u001b[0mdetail_df\u001b[0m\u001b[1;33m[\u001b[0m\u001b[1;34m'rating total'\u001b[0m\u001b[1;33m]\u001b[0m\u001b[1;33m)\u001b[0m\u001b[1;33m)\u001b[0m\u001b[1;33m:\u001b[0m\u001b[1;33m\u001b[0m\u001b[1;33m\u001b[0m\u001b[0m\n\u001b[1;32m----> 5\u001b[1;33m   \u001b[0mrating\u001b[0m\u001b[1;33m.\u001b[0m\u001b[0mappend\u001b[0m\u001b[1;33m(\u001b[0m\u001b[0mfloat\u001b[0m\u001b[1;33m(\u001b[0m\u001b[0mrating_total_list\u001b[0m\u001b[1;33m[\u001b[0m\u001b[0mi\u001b[0m\u001b[1;33m]\u001b[0m\u001b[1;33m)\u001b[0m \u001b[1;33m*\u001b[0m \u001b[0mfloat\u001b[0m\u001b[1;33m(\u001b[0m\u001b[0maverage_rating_list\u001b[0m\u001b[1;33m[\u001b[0m\u001b[0mi\u001b[0m\u001b[1;33m]\u001b[0m\u001b[1;33m)\u001b[0m\u001b[1;33m)\u001b[0m\u001b[1;33m\u001b[0m\u001b[1;33m\u001b[0m\u001b[0m\n\u001b[0m\u001b[0;32m      6\u001b[0m \u001b[0mrating_log\u001b[0m \u001b[1;33m=\u001b[0m \u001b[1;33m[\u001b[0m\u001b[0mnp\u001b[0m\u001b[1;33m.\u001b[0m\u001b[0mlog\u001b[0m\u001b[1;33m(\u001b[0m\u001b[0mr\u001b[0m\u001b[1;33m)\u001b[0m \u001b[1;32mfor\u001b[0m \u001b[0mr\u001b[0m \u001b[1;32min\u001b[0m \u001b[0mrating\u001b[0m\u001b[1;33m]\u001b[0m\u001b[1;33m\u001b[0m\u001b[1;33m\u001b[0m\u001b[0m\n",
      "\u001b[1;31mValueError\u001b[0m: could not convert string to float: '32K'"
     ]
    }
   ],
   "source": [
    "rating = []\n",
    "rating_total_list = list(detail_df['rating total'])\n",
    "average_rating_list = list(detail_df['average rating'])\n",
    "for i in range(len(detail_df['rating total'])):\n",
    "  rating.append(float(rating_total_list[i]) * float(average_rating_list[i]))\n",
    "rating_log = [np.log(r) for r in rating]"
   ]
  },
  {
   "cell_type": "code",
   "execution_count": 45,
   "metadata": {},
   "outputs": [
    {
     "data": {
      "text/plain": [
       "<seaborn.axisgrid.FacetGrid at 0x20f79df9a30>"
      ]
     },
     "execution_count": 45,
     "metadata": {},
     "output_type": "execute_result"
    },
    {
     "data": {
      "image/png": "[encoded data removed]",
      "text/plain": [
       "<Figure size 360x360 with 1 Axes>"
      ]
     },
     "metadata": {
      "needs_background": "light"
     },
     "output_type": "display_data"
    }
   ],
   "source": [
    "sns.displot(pd.Series(rating, name='rating'), bins=120)"
   ]
  },
  {
   "cell_type": "code",
   "execution_count": 47,
   "metadata": {},
   "outputs": [
    {
     "data": {
      "text/plain": [
       "<seaborn.axisgrid.FacetGrid at 0x20f054c5ee0>"
      ]
     },
     "execution_count": 47,
     "metadata": {},
     "output_type": "execute_result"
    },
    {
     "data": {
      "image/png": "[encoded data removed]",
      "text/plain": [
       "<Figure size 360x360 with 1 Axes>"
      ]
     },
     "metadata": {
      "needs_background": "light"
     },
     "output_type": "display_data"
    }
   ],
   "source": [
    "sns.displot(pd.Series(rating_log, name='rating log'))"
   ]
  },
  {
   "cell_type": "code",
   "execution_count": null,
   "metadata": {},
   "outputs": [],
   "source": []
  }
 ],
 "metadata": {
  "kernelspec": {
   "display_name": "Python 3.9.7 64-bit",
   "language": "python",
   "name": "python3"
  },
  "language_info": {
   "codemirror_mode": {
    "name": "ipython",
    "version": 3
   },
   "file_extension": ".py",
   "mimetype": "text/x-python",
   "name": "python",
   "nbconvert_exporter": "python",
   "pygments_lexer": "ipython3",
   "version": "3.9.7"
  },
  "orig_nbformat": 4,
  "vscode": {
   "interpreter": {
    "hash": "11938c6bc6919ae2720b4d5011047913343b08a43b18698fd82dedb0d4417594"
   }
  }
 },
 "nbformat": 4,
 "nbformat_minor": 2
}
