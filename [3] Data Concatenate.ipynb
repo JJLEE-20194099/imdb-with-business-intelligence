{
 "cells": [
  {
   "cell_type": "code",
   "execution_count": 10,
   "metadata": {},
   "outputs": [],
   "source": [
    "import pandas as pd"
   ]
  },
  {
   "cell_type": "code",
   "execution_count": 11,
   "metadata": {},
   "outputs": [],
   "source": [
    "detail_1 = pd.read_csv('./data/datasets/movie/details_1.csv', sep=',', encoding='utf-8')\n",
    "detail_2 = pd.read_csv('./data/datasets/movie/details_2.csv', sep=',', encoding='utf-8')\n",
    "detail_3 = pd.read_csv('./data/datasets/movie/details_3.csv', sep=',', encoding='utf-8')\n",
    "detail_4 = pd.read_csv('./data/datasets/movie/details_4.csv', sep=',', encoding='utf-8')\n",
    "detail_5 = pd.read_csv('./data/datasets/movie/details_5.csv', sep=',', encoding='utf-8')\n",
    "detail_6 = pd.read_csv('./data/datasets/movie/details_6.csv', sep=',', encoding='utf-8')\n",
    "detail_7 = pd.read_csv('./data/datasets/movie/details_7.csv', sep=',', encoding='utf-8')\n",
    "detail_8 = pd.read_csv('./data/datasets/movie/details_8.csv', sep=',', encoding='utf-8')\n",
    "detail_9 = pd.read_csv('./data/datasets/movie/details_9.csv', sep=',', encoding='utf-8')"
   ]
  },
  {
   "cell_type": "code",
   "execution_count": 12,
   "metadata": {},
   "outputs": [],
   "source": [
    "detail_df = pd.concat([detail_1, detail_2, detail_3, detail_4, detail_5, detail_6, detail_7, detail_8, detail_9])"
   ]
  },
  {
   "cell_type": "code",
   "execution_count": 13,
   "metadata": {},
   "outputs": [
    {
     "data": {
      "text/plain": [
       "(80698, 21)"
      ]
     },
     "execution_count": 13,
     "metadata": {},
     "output_type": "execute_result"
    }
   ],
   "source": [
    "detail_df.shape"
   ]
  },
  {
   "cell_type": "code",
   "execution_count": 14,
   "metadata": {},
   "outputs": [],
   "source": [
    "detail_df.to_csv('./data/datasets/movie/all_details.csv', sep=',', encoding='utf-8', index=False)"
   ]
  }
 ],
 "metadata": {
  "kernelspec": {
   "display_name": "Python 3.9.7 64-bit",
   "language": "python",
   "name": "python3"
  },
  "language_info": {
   "codemirror_mode": {
    "name": "ipython",
    "version": 3
   },
   "file_extension": ".py",
   "mimetype": "text/x-python",
   "name": "python",
   "nbconvert_exporter": "python",
   "pygments_lexer": "ipython3",
   "version": "3.9.7"
  },
  "orig_nbformat": 4,
  "vscode": {
   "interpreter": {
    "hash": "11938c6bc6919ae2720b4d5011047913343b08a43b18698fd82dedb0d4417594"
   }
  }
 },
 "nbformat": 4,
 "nbformat_minor": 2
}
